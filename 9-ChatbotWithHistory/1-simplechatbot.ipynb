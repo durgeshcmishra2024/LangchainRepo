{
 "cells": [
  {
   "cell_type": "code",
   "execution_count": 38,
   "metadata": {},
   "outputs": [],
   "source": [
    "import os\n",
    "from dotenv import load_dotenv\n",
    "from langchain_groq import ChatGroq\n",
    "from langchain_core.output_parsers import StrOutputParser\n",
    "from langchain_core.prompts import  ChatPromptTemplate,MessagesPlaceholder\n",
    "load_dotenv()\n",
    "groq_api_key = os.getenv(\"GROQ_API_KEY\") #GROQ_API_KEY must be in environment"
   ]
  },
  {
   "cell_type": "code",
   "execution_count": 11,
   "metadata": {},
   "outputs": [
    {
     "data": {
      "text/plain": [
       "ChatGroq(client=<groq.resources.chat.completions.Completions object at 0x7f741253cf40>, async_client=<groq.resources.chat.completions.AsyncCompletions object at 0x7f741253ecb0>, model_name='gemma2-9b-it')"
      ]
     },
     "execution_count": 11,
     "metadata": {},
     "output_type": "execute_result"
    }
   ],
   "source": [
    "model = ChatGroq(model='gemma2-9b-it')\n",
    "model"
   ]
  },
  {
   "cell_type": "code",
   "execution_count": 15,
   "metadata": {},
   "outputs": [
    {
     "data": {
      "text/plain": [
       "AIMessage(content=\"Hello Durgesh,\\n\\nIt's nice to meet you!  \\n\\nI'm an AI assistant, ready to help with any questions or tasks you might have. \\n\\nIs there anything specific I can assist you with today?  Perhaps you have a project you'd like to discuss, need help brainstorming ideas, or want to explore some creative writing options?  \\n\\nI'm here to listen and help in any way I can.  \\n\\n\", response_metadata={'token_usage': {'completion_tokens': 96, 'prompt_tokens': 26, 'total_tokens': 122, 'completion_time': 0.174545455, 'prompt_time': 0.000149489, 'queue_time': 0.014161769000000001, 'total_time': 0.174694944}, 'model_name': 'gemma2-9b-it', 'system_fingerprint': 'fp_10c08bf97d', 'finish_reason': 'stop', 'logprobs': None}, id='run-f9658774-82b3-44a4-af10-922a4696dde3-0', usage_metadata={'input_tokens': 26, 'output_tokens': 96, 'total_tokens': 122})"
      ]
     },
     "execution_count": 15,
     "metadata": {},
     "output_type": "execute_result"
    }
   ],
   "source": [
    "from langchain_core.messages import HumanMessage,SystemMessage,AIMessage\n",
    "model.invoke([HumanMessage(content=\"Hi I am Durgesh and I am Team lead at unicodesystems private limited\")])"
   ]
  },
  {
   "cell_type": "code",
   "execution_count": 24,
   "metadata": {},
   "outputs": [
    {
     "data": {
      "text/plain": [
       "'You told me you are a Team Lead at Unicodesystems Private Limited.  \\n\\nIs there anything else I can help you with regarding your position? \\n\\n\\n\\n'"
      ]
     },
     "execution_count": 24,
     "metadata": {},
     "output_type": "execute_result"
    }
   ],
   "source": [
    "messageges = [\n",
    "    SystemMessage(content=\"You are my helpfull assistant\"),\n",
    "    HumanMessage(content=\"Hi I am Durgesh and I am working as Team lead at a company named Unicodesystems private limited\"),\n",
    "    AIMessage(content=\"Hello Durgesh, it's nice to meet you!\\n\\nIt's great to know you're a Team Lead at Unicodesystems Private Limited. \\n\\nWhat can I do for you today? 😊  \\n\\nAre you looking for information about a specific topic, need help with a task, or just want to chat? \\n\\n\"),\n",
    "    HumanMessage(content='What is my job position at Unicode?')\n",
    "\n",
    "]\n",
    "response = model.invoke(messageges)\n",
    "parser = StrOutputParser()\n",
    "parser.invoke(response)"
   ]
  },
  {
   "cell_type": "code",
   "execution_count": 25,
   "metadata": {},
   "outputs": [],
   "source": [
    "## message history\n",
    "from langchain_community.chat_message_histories import  ChatMessageHistory\n",
    "from langchain_core.chat_history import BaseChatMessageHistory\n",
    "from langchain_core.runnables.history import RunnableWithMessageHistory"
   ]
  },
  {
   "cell_type": "code",
   "execution_count": 26,
   "metadata": {},
   "outputs": [],
   "source": [
    "store = {}\n",
    "def get_session_history(session_id: str)->BaseChatMessageHistory:\n",
    "    if session_id not in store:\n",
    "        store[session_id] = ChatMessageHistory()\n",
    "    return store[session_id]\n",
    "\n",
    "config = {\"configurable\":{\"session_id\":\"chat1\"}}"
   ]
  },
  {
   "cell_type": "code",
   "execution_count": 27,
   "metadata": {},
   "outputs": [
    {
     "data": {
      "text/plain": [
       "AIMessage(content=\"Hello Durgesh!\\n\\nIt's nice to meet you.  \\n\\nI'm glad to be your helpful assistant. What can I do for you today? As a Team Lead at Unicodesystems Private Limited, I imagine you have a lot on your plate.  \\n\\nPerhaps I can help with:\\n\\n* **Brainstorming ideas:** Need to come up with new solutions or strategies for your team?\\n* **Organizing information:**  Want to keep track of deadlines, tasks, or important documents?\\n* **Drafting emails or documents:**  Need help with professional communication?\\n* **Researching topics:**  Looking for information about a specific industry trend or technology?\\n\\n\\nLet me know how I can be of service!  \\n\\n\", response_metadata={'token_usage': {'completion_tokens': 155, 'prompt_tokens': 37, 'total_tokens': 192, 'completion_time': 0.281818182, 'prompt_time': 0.000568128, 'queue_time': 0.013870251, 'total_time': 0.28238631}, 'model_name': 'gemma2-9b-it', 'system_fingerprint': 'fp_10c08bf97d', 'finish_reason': 'stop', 'logprobs': None}, id='run-d673ecef-350f-4404-928d-351cb6ff91e5-0', usage_metadata={'input_tokens': 37, 'output_tokens': 155, 'total_tokens': 192})"
      ]
     },
     "execution_count": 27,
     "metadata": {},
     "output_type": "execute_result"
    }
   ],
   "source": [
    "with_message_history = RunnableWithMessageHistory(model,get_session_history=get_session_history)\n",
    "with_message_history.invoke( [\n",
    "    SystemMessage(content=\"You are my helpfull assistant\"),\n",
    "    HumanMessage(content=\"Hi I am Durgesh and I am working as Team lead at a company named Unicodesystems private limited\")\n",
    "    ],\n",
    "    config=config)"
   ]
  },
  {
   "cell_type": "code",
   "execution_count": 28,
   "metadata": {},
   "outputs": [
    {
     "data": {
      "text/plain": [
       "{'chat1': InMemoryChatMessageHistory(messages=[SystemMessage(content='You are my helpfull assistant'), HumanMessage(content='Hi I am Durgesh and I am working as Team lead at a company named Unicodesystems private limited'), AIMessage(content=\"Hello Durgesh!\\n\\nIt's nice to meet you.  \\n\\nI'm glad to be your helpful assistant. What can I do for you today? As a Team Lead at Unicodesystems Private Limited, I imagine you have a lot on your plate.  \\n\\nPerhaps I can help with:\\n\\n* **Brainstorming ideas:** Need to come up with new solutions or strategies for your team?\\n* **Organizing information:**  Want to keep track of deadlines, tasks, or important documents?\\n* **Drafting emails or documents:**  Need help with professional communication?\\n* **Researching topics:**  Looking for information about a specific industry trend or technology?\\n\\n\\nLet me know how I can be of service!  \\n\\n\", response_metadata={'token_usage': {'completion_tokens': 155, 'prompt_tokens': 37, 'total_tokens': 192, 'completion_time': 0.281818182, 'prompt_time': 0.000568128, 'queue_time': 0.013870251, 'total_time': 0.28238631}, 'model_name': 'gemma2-9b-it', 'system_fingerprint': 'fp_10c08bf97d', 'finish_reason': 'stop', 'logprobs': None}, id='run-d673ecef-350f-4404-928d-351cb6ff91e5-0', usage_metadata={'input_tokens': 37, 'output_tokens': 155, 'total_tokens': 192})])}"
      ]
     },
     "execution_count": 28,
     "metadata": {},
     "output_type": "execute_result"
    }
   ],
   "source": [
    "store"
   ]
  },
  {
   "cell_type": "code",
   "execution_count": 29,
   "metadata": {},
   "outputs": [
    {
     "data": {
      "text/plain": [
       "AIMessage(content='Your name is Durgesh. 😊  \\n\\nI remember our introduction!  How can I help you today, Durgesh?  \\n', response_metadata={'token_usage': {'completion_tokens': 31, 'prompt_tokens': 204, 'total_tokens': 235, 'completion_time': 0.056363636, 'prompt_time': 0.007273555, 'queue_time': 0.005729664, 'total_time': 0.063637191}, 'model_name': 'gemma2-9b-it', 'system_fingerprint': 'fp_10c08bf97d', 'finish_reason': 'stop', 'logprobs': None}, id='run-b8c79fc1-f8e1-467c-9e19-dbbbb774e7fe-0', usage_metadata={'input_tokens': 204, 'output_tokens': 31, 'total_tokens': 235})"
      ]
     },
     "execution_count": 29,
     "metadata": {},
     "output_type": "execute_result"
    }
   ],
   "source": [
    "with_message_history.invoke( [\n",
    "    HumanMessage(content=\"What is my name?\"),\n",
    "    ],\n",
    "    config=config)"
   ]
  },
  {
   "cell_type": "code",
   "execution_count": 34,
   "metadata": {},
   "outputs": [
    {
     "data": {
      "text/plain": [
       "AIMessage(content=\"Hi Vishesh!  \\n\\nIt's great to hear from you again.  You study in 8th grade at RLB Inter College in Lucknow, right? \\n\\n\\n\\n\", response_metadata={'token_usage': {'completion_tokens': 39, 'prompt_tokens': 208, 'total_tokens': 247, 'completion_time': 0.070909091, 'prompt_time': 0.006593235, 'queue_time': 0.008144944000000001, 'total_time': 0.077502326}, 'model_name': 'gemma2-9b-it', 'system_fingerprint': 'fp_10c08bf97d', 'finish_reason': 'stop', 'logprobs': None}, id='run-e5d2ecd4-2feb-437b-8062-fdbb00d4255f-0', usage_metadata={'input_tokens': 208, 'output_tokens': 39, 'total_tokens': 247})"
      ]
     },
     "execution_count": 34,
     "metadata": {},
     "output_type": "execute_result"
    }
   ],
   "source": [
    "config2 = {\"configurable\":{\"session_id\":\"chat2\"}}\n",
    "with_message_history.invoke( [\n",
    "    HumanMessage(content=\"My name is vishesh and I study in class 8th at my school RLB inter college lucknow?\"),\n",
    "    ],\n",
    "    config=config2)"
   ]
  },
  {
   "cell_type": "code",
   "execution_count": 35,
   "metadata": {},
   "outputs": [
    {
     "data": {
      "text/plain": [
       "AIMessage(content=\"Your name is Vishesh!  😊  \\n\\nI'm happy to remember that for you.  \\n\\nIs there anything else I can help you with?\\n\", response_metadata={'token_usage': {'completion_tokens': 35, 'prompt_tokens': 259, 'total_tokens': 294, 'completion_time': 0.063636364, 'prompt_time': 0.010344751, 'queue_time': 0.0034076290000000006, 'total_time': 0.073981115}, 'model_name': 'gemma2-9b-it', 'system_fingerprint': 'fp_10c08bf97d', 'finish_reason': 'stop', 'logprobs': None}, id='run-e2e548ed-cf9f-4e8c-a5db-a708561210d0-0', usage_metadata={'input_tokens': 259, 'output_tokens': 35, 'total_tokens': 294})"
      ]
     },
     "execution_count": 35,
     "metadata": {},
     "output_type": "execute_result"
    }
   ],
   "source": [
    "with_message_history.invoke( [\n",
    "    HumanMessage(content=\"What is my name?\"),\n",
    "    ],\n",
    "    config=config2)"
   ]
  },
  {
   "cell_type": "code",
   "execution_count": 36,
   "metadata": {},
   "outputs": [
    {
     "data": {
      "text/plain": [
       "AIMessage(content=\"Your name is Durgesh. \\n\\nIt seems like you're testing me!  I'm ready for your next question. 😄  What else can I help you with? \\n\\n\\n\", response_metadata={'token_usage': {'completion_tokens': 42, 'prompt_tokens': 292, 'total_tokens': 334, 'completion_time': 0.076363636, 'prompt_time': 0.011869497, 'queue_time': 0.002880983, 'total_time': 0.088233133}, 'model_name': 'gemma2-9b-it', 'system_fingerprint': 'fp_10c08bf97d', 'finish_reason': 'stop', 'logprobs': None}, id='run-fe9c9101-1663-4c04-b02a-534b5b90df2c-0', usage_metadata={'input_tokens': 292, 'output_tokens': 42, 'total_tokens': 334})"
      ]
     },
     "execution_count": 36,
     "metadata": {},
     "output_type": "execute_result"
    }
   ],
   "source": [
    "config = {\"configurable\":{\"session_id\":\"chat1\"}}\n",
    "with_message_history.invoke( [\n",
    "    HumanMessage(content=\"What is my name?\"),\n",
    "    ],\n",
    "    config=config)"
   ]
  },
  {
   "cell_type": "code",
   "execution_count": 60,
   "metadata": {},
   "outputs": [
    {
     "data": {
      "text/plain": [
       "'नमस्ते विशेश! \\n\\nमुझे खुशी है कि तुमसे मिलने का मौका मिला। \\n\\nमुझे बताओ, किस बारे में तुम जानना चाहते हो? मैं तुम्हारी मदद करने के लिए यहाँ हूँ! \\n\\n'"
      ]
     },
     "execution_count": 60,
     "metadata": {},
     "output_type": "execute_result"
    }
   ],
   "source": [
    "## chat with prompt````\n",
    "prompt = ChatPromptTemplate.from_messages(\n",
    "    [\n",
    "        ('system',\"Hi you are an helpful assistance. Answer the questions in {language}.\"),\n",
    "        MessagesPlaceholder(variable_name='messages')\n",
    "    ]\n",
    ")\n",
    "chain = prompt | model |parser\n",
    "res = chain.invoke({'messages':[ HumanMessage(content=\"My name is vishesh and I study in class 8th at my school RLB inter college lucknow?\")],\n",
    "      'language':'Hindi'\n",
    "      })\n",
    "res\n"
   ]
  },
  {
   "cell_type": "code",
   "execution_count": 63,
   "metadata": {},
   "outputs": [
    {
     "data": {
      "text/plain": [
       "'बहुत अच्छा विशेश!  \\n\\nRLB इंटर कॉलेज लखनऊ में 8वीं क्लास में पढ़ना कितना मजेदार होगा!  \\n'"
      ]
     },
     "execution_count": 63,
     "metadata": {},
     "output_type": "execute_result"
    }
   ],
   "source": [
    "config3 = {\"configurable\":{\"session_id\":\"chat4\"}}\n",
    "with_message_history_chain = RunnableWithMessageHistory(chain,get_session_history=get_session_history,input_messages_key='messages')\n",
    "with_message_history_chain.invoke({'messages':[ HumanMessage(content=\"My name is vishesh and I study in class 8th at my school RLB inter college lucknow?\")],\n",
    "      'language':'Hindi'\n",
    "      },\n",
    "    config=config3\n",
    "    )"
   ]
  },
  {
   "cell_type": "code",
   "execution_count": 64,
   "metadata": {},
   "outputs": [
    {
     "data": {
      "text/plain": [
       "'तुम्हारा नाम विशेश है। 😊  \\n'"
      ]
     },
     "execution_count": 64,
     "metadata": {},
     "output_type": "execute_result"
    }
   ],
   "source": [
    "with_message_history_chain.invoke({'messages':[ HumanMessage(content=\"What is my name?\") ],'language':'Hindi'},\n",
    "    config=config3\n",
    "    )"
   ]
  },
  {
   "cell_type": "code",
   "execution_count": 72,
   "metadata": {},
   "outputs": [],
   "source": [
    "# Managing conversation history\n",
    "from langchain_core.messages import trim_messages\n",
    "trimmer = trim_messages(\n",
    "    token_counter = model,\n",
    "    max_tokens=45,\n",
    "    strategy = 'last',\n",
    "    include_system = True,\n",
    "    allow_partial = False,\n",
    "    start_on = \"human\"\n",
    ")"
   ]
  },
  {
   "cell_type": "code",
   "execution_count": 73,
   "metadata": {},
   "outputs": [
    {
     "data": {
      "text/plain": [
       "[SystemMessage(content=\"you're a good assistant\"),\n",
       " HumanMessage(content='I like vanilla ice cream'),\n",
       " AIMessage(content='nice'),\n",
       " HumanMessage(content='whats 2 + 2'),\n",
       " AIMessage(content='4'),\n",
       " HumanMessage(content='thanks'),\n",
       " AIMessage(content='no problem!'),\n",
       " HumanMessage(content='having fun?'),\n",
       " AIMessage(content='yes!')]"
      ]
     },
     "execution_count": 73,
     "metadata": {},
     "output_type": "execute_result"
    }
   ],
   "source": [
    "messages = [\n",
    "    SystemMessage(content=\"you're a good assistant\"),\n",
    "    HumanMessage(content=\"hi! I'm bob\"),\n",
    "    AIMessage(content=\"hi!\"),\n",
    "    HumanMessage(content=\"I like vanilla ice cream\"),\n",
    "    AIMessage(content=\"nice\"),\n",
    "    HumanMessage(content=\"whats 2 + 2\"),\n",
    "    AIMessage(content=\"4\"),\n",
    "    HumanMessage(content=\"thanks\"),\n",
    "    AIMessage(content=\"no problem!\"),\n",
    "    HumanMessage(content=\"having fun?\"),\n",
    "    AIMessage(content=\"yes!\"),\n",
    "]\n",
    "trimmer.invoke(messages)"
   ]
  },
  {
   "cell_type": "code",
   "execution_count": 82,
   "metadata": {},
   "outputs": [],
   "source": [
    "#RunnablePassthrough.assign(messages=itemgetter(messages)| trimmer)"
   ]
  },
  {
   "cell_type": "code",
   "execution_count": 95,
   "metadata": {},
   "outputs": [],
   "source": [
    "from operator import itemgetter\n",
    "from langchain_core.runnables import RunnablePassthrough\n",
    "\n",
    "chain =(\n",
    "    RunnablePassthrough.assign(messages=itemgetter(\"messages\")| trimmer)\n",
    "    | prompt \n",
    "    | model\n",
    ")"
   ]
  },
  {
   "cell_type": "code",
   "execution_count": 88,
   "metadata": {},
   "outputs": [
    {
     "data": {
      "text/plain": [
       "AIMessage(content=\"As an AI, I don't know your preferences! \\n\\nWhat's your favorite ice cream flavor? 😊🍦  \\n\", response_metadata={'token_usage': {'completion_tokens': 29, 'prompt_tokens': 82, 'total_tokens': 111, 'completion_time': 0.052727273, 'prompt_time': 0.00231875, 'queue_time': 0.010984707, 'total_time': 0.055046023}, 'model_name': 'gemma2-9b-it', 'system_fingerprint': 'fp_10c08bf97d', 'finish_reason': 'stop', 'logprobs': None}, id='run-6c841bfb-0523-4fdb-ae6f-c88bfa76d8a7-0', usage_metadata={'input_tokens': 82, 'output_tokens': 29, 'total_tokens': 111})"
      ]
     },
     "execution_count": 88,
     "metadata": {},
     "output_type": "execute_result"
    }
   ],
   "source": [
    "response = chain.invoke({\n",
    "    'messages': messages + [HumanMessage(content='Which ice cream do I like?')],\n",
    "    'language':'English'\n",
    "})\n",
    "response"
   ]
  },
  {
   "cell_type": "code",
   "execution_count": 90,
   "metadata": {},
   "outputs": [
    {
     "data": {
      "text/plain": [
       "AIMessage(content='आपने पूछा था कि 2 + 2 क्या है। \\n', response_metadata={'token_usage': {'completion_tokens': 20, 'prompt_tokens': 82, 'total_tokens': 102, 'completion_time': 0.036363636, 'prompt_time': 0.003286927, 'queue_time': 0.010744459999999999, 'total_time': 0.039650563}, 'model_name': 'gemma2-9b-it', 'system_fingerprint': 'fp_10c08bf97d', 'finish_reason': 'stop', 'logprobs': None}, id='run-9cf7053f-986e-4fcd-ac48-31af496f704c-0', usage_metadata={'input_tokens': 82, 'output_tokens': 20, 'total_tokens': 102})"
      ]
     },
     "execution_count": 90,
     "metadata": {},
     "output_type": "execute_result"
    }
   ],
   "source": [
    "response = chain.invoke({\n",
    "    'messages': messages + [HumanMessage(content='Which math problem did I ask?')],\n",
    "    'language':'Hindi'\n",
    "})\n",
    "response"
   ]
  },
  {
   "cell_type": "code",
   "execution_count": 98,
   "metadata": {},
   "outputs": [
    {
     "data": {
      "text/plain": [
       "AIMessage(content=\"As an AI, I don't have access to past conversations or any personal information about you, including your name.  \\n\\nIf you'd like to tell me your name, I'd be happy to use it! 😊  \\n\\n\", response_metadata={'token_usage': {'completion_tokens': 52, 'prompt_tokens': 80, 'total_tokens': 132, 'completion_time': 0.094545455, 'prompt_time': 0.002865669, 'queue_time': 0.009965350000000001, 'total_time': 0.097411124}, 'model_name': 'gemma2-9b-it', 'system_fingerprint': 'fp_10c08bf97d', 'finish_reason': 'stop', 'logprobs': None}, id='run-9a42a85a-62a3-4102-84a0-16de96474d98-0', usage_metadata={'input_tokens': 80, 'output_tokens': 52, 'total_tokens': 132})"
      ]
     },
     "execution_count": 98,
     "metadata": {},
     "output_type": "execute_result"
    }
   ],
   "source": [
    "# wrap in message history\n",
    "config4 = {\"configurable\":{\"session_id\":\"chat5\"}}\n",
    "with_message_history = RunnableWithMessageHistory(chain,get_session_history=get_session_history,input_messages_key='messages')\n",
    "with_message_history.invoke(\n",
    "    {\n",
    "        'messages': messages + [HumanMessage(content='What is my name?')],\n",
    "        'language':'English'\n",
    "    },\n",
    "    config=config4\n",
    ")"
   ]
  },
  {
   "cell_type": "code",
   "execution_count": 99,
   "metadata": {},
   "outputs": [
    {
     "data": {
      "text/plain": [
       "AIMessage(content='आपने 2 + 2 का सवाल पूछा था!  😊 \\n', response_metadata={'token_usage': {'completion_tokens': 22, 'prompt_tokens': 82, 'total_tokens': 104, 'completion_time': 0.04, 'prompt_time': 0.002697039, 'queue_time': 0.051840286, 'total_time': 0.042697039}, 'model_name': 'gemma2-9b-it', 'system_fingerprint': 'fp_10c08bf97d', 'finish_reason': 'stop', 'logprobs': None}, id='run-d6dab25d-6ad7-4c92-bd03-7b0b84d9041b-0', usage_metadata={'input_tokens': 82, 'output_tokens': 22, 'total_tokens': 104})"
      ]
     },
     "execution_count": 99,
     "metadata": {},
     "output_type": "execute_result"
    }
   ],
   "source": [
    "with_message_history.invoke(\n",
    "    {\n",
    "    'messages': messages + [HumanMessage(content='Which math problem did I ask?')],\n",
    "    'language':'Hindi'\n",
    "},\n",
    "    config=config4\n",
    ")"
   ]
  },
  {
   "cell_type": "code",
   "execution_count": null,
   "metadata": {},
   "outputs": [],
   "source": []
  }
 ],
 "metadata": {
  "kernelspec": {
   "display_name": "Python 3",
   "language": "python",
   "name": "python3"
  },
  "language_info": {
   "codemirror_mode": {
    "name": "ipython",
    "version": 3
   },
   "file_extension": ".py",
   "mimetype": "text/x-python",
   "name": "python",
   "nbconvert_exporter": "python",
   "pygments_lexer": "ipython3",
   "version": "3.10.13"
  }
 },
 "nbformat": 4,
 "nbformat_minor": 2
}
